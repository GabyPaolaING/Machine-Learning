{
  "nbformat": 4,
  "nbformat_minor": 0,
  "metadata": {
    "colab": {
      "provenance": [],
      "authorship_tag": "ABX9TyOOUU0KNx4qpHwoH9ZPE6PR",
      "include_colab_link": true
    },
    "kernelspec": {
      "name": "python3",
      "display_name": "Python 3"
    },
    "language_info": {
      "name": "python"
    }
  },
  "cells": [
    {
      "cell_type": "markdown",
      "metadata": {
        "id": "view-in-github",
        "colab_type": "text"
      },
      "source": [
        "<a href=\"https://colab.research.google.com/github/GabyPaolaING/Machine-Learning/blob/main/Simple_Linear_Regression.ipynb\" target=\"_parent\"><img src=\"https://colab.research.google.com/assets/colab-badge.svg\" alt=\"Open In Colab\"/></a>"
      ]
    },
    {
      "cell_type": "markdown",
      "source": [
        "#Simple Linear Regression"
      ],
      "metadata": {
        "id": "0Lslw4vKEfgm"
      }
    },
    {
      "cell_type": "markdown",
      "source": [
        "##2.1 Fundamentos de la técnica"
      ],
      "metadata": {
        "id": "rXvVgkNEEk_L"
      }
    },
    {
      "cell_type": "markdown",
      "source": [
        "La Regresión Lineal Simple es una técnica estadística que modela la relación entre una variable independiente\n",
        "𝑋\n",
        "X y una variable dependiente\n",
        "𝑌\n",
        "Y. Su objetivo es encontrar la mejor línea recta que minimice la diferencia (error) entre los valores observados y los valores predichos.\n",
        "\n",
        "Se basa en el supuesto de que existe una relación lineal entre ambas variables, y se utiliza ampliamente en predicciones y análisis de tendencias."
      ],
      "metadata": {
        "id": "X0G4ICaxEn37"
      }
    },
    {
      "cell_type": "markdown",
      "source": [
        "## 2.2 Modelo Matemático"
      ],
      "metadata": {
        "id": "Sbs_qdKFEwvn"
      }
    },
    {
      "cell_type": "markdown",
      "source": [
        "La Regresión Lineal Simple busca modelar la relación entre una variable independiente\n",
        "𝑋\n",
        "X y una variable dependiente\n",
        "𝑌\n",
        "Y mediante una ecuación lineal:\n",
        "\n",
        "          𝑌 = 𝛽0 + 𝛽1𝑋 + 𝜖\n",
        "\n",
        "Donde:\n",
        "\n",
        "\n",
        "*   Y: Variable dependiente.\n",
        "*   X: Variable independiente.\n",
        "*   𝛽0: Intercepto( valor de Y cuando x=0).\n",
        "*  𝛽1: Pendiente de la recta(cambio en Y por unidad de cambio en X).\n",
        "* 𝜖: Error o termino de perturbacion\n",
        "\n",
        "\n"
      ],
      "metadata": {
        "id": "pK6wF1K2Ezv7"
      }
    },
    {
      "cell_type": "markdown",
      "source": [
        "## 2.3 Descripción de la librería, clases y funciones empleadas"
      ],
      "metadata": {
        "id": "kaltAyyiGvyK"
      }
    },
    {
      "cell_type": "markdown",
      "source": [
        "El artículo utiliza principalmente las siguientes librerías:\n",
        "\n",
        "pandas → para manipulación de datos (read_csv(), DataFrame)\n",
        "\n",
        "matplotlib.pyplot → para visualización (scatter(), plot())\n",
        "\n",
        "scikit-learn (sklearn) → para crear y entrenar el modelo:\n",
        "\n",
        "LinearRegression() → clase que implementa el modelo lineal.\n",
        "\n",
        "fit(X, y) → ajusta el modelo a los datos.\n",
        "\n",
        "predict(X) → realiza predicciones.\n",
        "\n",
        "score(X, y)` → obtiene el coeficiente de determinación \\( R^2 \\).\n"
      ],
      "metadata": {
        "id": "-cDinzjtHC7b"
      }
    },
    {
      "cell_type": "markdown",
      "source": [
        "## 2.4 Pipeline"
      ],
      "metadata": {
        "id": "DJKd3Bd1HEHq"
      }
    },
    {
      "cell_type": "markdown",
      "source": [
        "## Preprocesamiento"
      ],
      "metadata": {
        "id": "D3JTWqPEIRpH"
      }
    },
    {
      "cell_type": "code",
      "source": [
        "import pandas as pd\n",
        "import matplotlib.pyplot as plt\n",
        "\n",
        "# Cargar dataset (ejemplo usado en el artículo)\n",
        "dataset = pd.read_csv('/Salary_Data.csv')\n",
        "\n",
        "# Visualización inicial\n",
        "print(dataset.head())\n",
        "\n",
        "# Gráfico de dispersión\n",
        "plt.scatter(dataset['YearsExperience'], dataset['Salary'])\n",
        "plt.title('Salary vs Experience')\n",
        "plt.xlabel('Years of Experience')\n",
        "plt.ylabel('Salary')\n",
        "plt.show()\n"
      ],
      "metadata": {
        "colab": {
          "base_uri": "https://localhost:8080/",
          "height": 576
        },
        "id": "0WRxkty8IWhD",
        "outputId": "3e8c96d5-a5e7-4e53-fb75-1649d59adaa5"
      },
      "execution_count": 2,
      "outputs": [
        {
          "output_type": "stream",
          "name": "stdout",
          "text": [
            "   YearsExperience   Salary\n",
            "0              1.1  39343.0\n",
            "1              1.3  46205.0\n",
            "2              1.5  37731.0\n",
            "3              2.0  43525.0\n",
            "4              2.2  39891.0\n"
          ]
        },
        {
          "output_type": "display_data",
          "data": {
            "text/plain": [
              "<Figure size 640x480 with 1 Axes>"
            ],
            "image/png": "[encoded data removed]"
          },
          "metadata": {}
        }
      ]
    },
    {
      "cell_type": "markdown",
      "source": [
        "## Feature Engineering"
      ],
      "metadata": {
        "id": "VqdTWuM5ItTB"
      }
    },
    {
      "cell_type": "markdown",
      "source": [
        "En este modelo, la variable independiente (X) es YearsExperience\n",
        "y la variable dependiente (y) es Salary."
      ],
      "metadata": {
        "id": "DnNLYepoIxYc"
      }
    },
    {
      "cell_type": "code",
      "source": [
        "X = dataset[['YearsExperience']]  # Variable independiente\n",
        "y = dataset['Salary']             # Variable dependiente\n"
      ],
      "metadata": {
        "id": "Z2HJz9jNIzdV"
      },
      "execution_count": 3,
      "outputs": []
    },
    {
      "cell_type": "markdown",
      "source": [
        "## Model Selection"
      ],
      "metadata": {
        "id": "7EHY8w8jI4UK"
      }
    },
    {
      "cell_type": "markdown",
      "source": [
        "El artículo usa Regresión Lineal Simple porque los datos muestran una tendencia aproximadamente lineal entre los años de experiencia y el salario.\n",
        "\n",
        "No se utiliza un modelo no lineal (como polinomial), ya que no hay evidencia de una curva significativa en los datos.\n",
        "El modelo lineal es suficiente para capturar la relación."
      ],
      "metadata": {
        "id": "_LcSv_JVI7oa"
      }
    },
    {
      "cell_type": "code",
      "source": [
        "from sklearn.linear_model import LinearRegression\n",
        "from sklearn.model_selection import train_test_split\n",
        "\n",
        "# División de datos\n",
        "X_train, X_test, y_train, y_test = train_test_split(X, y, test_size=1/3, random_state=0)\n",
        "\n",
        "# Crear y entrenar el modelo\n",
        "model = LinearRegression()\n",
        "model.fit(X_train, y_train)\n",
        "\n",
        "print(\"Intercepto (β0):\", model.intercept_)\n",
        "print(\"Pendiente (β1):\", model.coef_)\n"
      ],
      "metadata": {
        "colab": {
          "base_uri": "https://localhost:8080/"
        },
        "id": "lsnomEtDJCrL",
        "outputId": "156a880b-86cc-485b-ee53-615d7c89fdb9"
      },
      "execution_count": 4,
      "outputs": [
        {
          "output_type": "stream",
          "name": "stdout",
          "text": [
            "Intercepto (β0): 26816.192244031183\n",
            "Pendiente (β1): [9345.94244312]\n"
          ]
        }
      ]
    },
    {
      "cell_type": "markdown",
      "source": [
        "##Prediction"
      ],
      "metadata": {
        "id": "Z_lkpsZmJHEt"
      }
    },
    {
      "cell_type": "code",
      "source": [
        "# Predicciones\n",
        "y_pred = model.predict(X_test)\n",
        "\n",
        "# Comparar valores reales vs predichos\n",
        "df = pd.DataFrame({'Actual': y_test, 'Predicted': y_pred})\n",
        "print(df.head())\n",
        "\n",
        "# Gráfico de resultados\n",
        "plt.scatter(X_train, y_train, color='blue', label='Datos de entrenamiento')\n",
        "plt.plot(X_train, model.predict(X_train), color='red', label='Línea de regresión')\n",
        "plt.title('Salario vs Experiencia (Entrenamiento)')\n",
        "plt.xlabel('YearsExperience')\n",
        "plt.ylabel('Salary')\n",
        "plt.legend()\n",
        "plt.show()\n"
      ],
      "metadata": {
        "colab": {
          "base_uri": "https://localhost:8080/",
          "height": 576
        },
        "id": "BhaSTPuYJJLR",
        "outputId": "855ee4ca-98a2-48bf-9374-a147a0dc2e5c"
      },
      "execution_count": 5,
      "outputs": [
        {
          "output_type": "stream",
          "name": "stdout",
          "text": [
            "      Actual      Predicted\n",
            "2    37731.0   40835.105909\n",
            "28  122391.0  123079.399408\n",
            "13   57081.0   65134.556261\n",
            "10   63218.0   63265.367772\n",
            "26  116969.0  115602.645454\n"
          ]
        },
        {
          "output_type": "display_data",
          "data": {
            "text/plain": [
              "<Figure size 640x480 with 1 Axes>"
            ],
            "image/png": "[encoded data removed]"
          },
          "metadata": {}
        }
      ]
    },
    {
      "cell_type": "markdown",
      "source": [
        "## Model Evaluation"
      ],
      "metadata": {
        "id": "nMN4SE38JMbJ"
      }
    },
    {
      "cell_type": "code",
      "source": [
        "from sklearn.metrics import mean_squared_error, r2_score\n",
        "\n",
        "mse = mean_squared_error(y_test, y_pred)\n",
        "r2 = r2_score(y_test, y_pred)\n",
        "\n",
        "print(f\"Error Cuadrático Medio (MSE): {mse:.2f}\")\n",
        "print(f\"Coeficiente de Determinación (R²): {r2:.2f}\")\n"
      ],
      "metadata": {
        "colab": {
          "base_uri": "https://localhost:8080/"
        },
        "id": "Vpt6M3JTJPkY",
        "outputId": "471b49ca-57f7-424e-bc13-b7535334ad62"
      },
      "execution_count": 6,
      "outputs": [
        {
          "output_type": "stream",
          "name": "stdout",
          "text": [
            "Error Cuadrático Medio (MSE): 21026037.33\n",
            "Coeficiente de Determinación (R²): 0.97\n"
          ]
        }
      ]
    },
    {
      "cell_type": "markdown",
      "source": [
        "https://medium.com/@shuv.sdr/simple-linear-regression-in-python-a0069b325bf8"
      ],
      "metadata": {
        "id": "Yfwx5wN0JU1I"
      }
    }
  ]
}